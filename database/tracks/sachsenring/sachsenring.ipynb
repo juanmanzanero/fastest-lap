{
 "cells": [
  {
   "cell_type": "markdown",
   "id": "96963ef6",
   "metadata": {},
   "source": [
    "# Circuit preprocessor: Sachsenring 2022"
   ]
  },
  {
   "cell_type": "code",
   "execution_count": 7,
   "id": "35c60f81",
   "metadata": {},
   "outputs": [],
   "source": [
    "import sys,os,inspect\n",
    "sys.path.append(os.path.dirname(os.path.dirname(os.path.abspath(inspect.getfile(inspect.currentframe())))))\n",
    "import fastest_lap\n",
    "import fastest_lap_utils"
   ]
  },
  {
   "cell_type": "code",
   "execution_count": 8,
   "id": "d0d1fbc3",
   "metadata": {},
   "outputs": [],
   "source": [
    "options = \"<options>\"\n",
    "options += \"    <kml_files>\"\n",
    "options += \"        <left>../../../database/tracks/sachsenring/sachsenring_left.kml</left>\"\n",
    "options += \"        <right>../../../database/tracks/sachsenring/sachsenring_right.kml</right>\"\n",
    "options += \"    </kml_files>\"\n",
    "options += \"    <mode>equally-spaced</mode>\"\n",
    "options += \"    <is_closed>true</is_closed>\"\n",
    "options += \"    <number_of_elements>1000</number_of_elements>\"\n",
    "options += \"    <xml_file_name>sachsenring.xml</xml_file_name>\"\n",
    "options += \"    <output_variables>\"\n",
    "options += \"        <prefix>track/</prefix>\"\n",
    "options += \"    </output_variables>\"\n",
    "options += \"</options>\"\n",
    "\n",
    "fastest_lap.circuit_preprocessor(options)"
   ]
  },
  {
   "cell_type": "code",
   "execution_count": null,
   "id": "4563cd76",
   "metadata": {
    "scrolled": false
   },
   "outputs": [],
   "source": [
    "fastest_lap_utils.plot_turn(250, 430, \"Turn 1\")\n",
    "fastest_lap_utils.plot_turn(430, 620, \"Turn 2\")\n",
    "fastest_lap_utils.plot_turn(640, 840, \"Turn 3\")\n",
    "fastest_lap_utils.plot_turn(830, 940, \"Turn 4\")\n",
    "fastest_lap_utils.plot_turn(940, 1050, \"Turn 5\")\n",
    "fastest_lap_utils.plot_turn(1020, 1160, \"Turn 6\")\n",
    "fastest_lap_utils.plot_turn(1180, 1590, \"Turn 7\")\n",
    "fastest_lap_utils.plot_turn(1600, 1890, \"Turn 8\")\n",
    "fastest_lap_utils.plot_turn(1890, 2040, \"Turns 9\")\n",
    "fastest_lap_utils.plot_turn(2010, 2240, \"Turns 10\")\n",
    "fastest_lap_utils.plot_turn(2200, 2500, \"Turns 11\")\n",
    "fastest_lap_utils.plot_turn(2700, 3000, \"Turns 12\")\n",
    "fastest_lap_utils.plot_turn(3100, 3400, \"Turns 13\")"
   ]
  }
 ],
 "metadata": {
  "kernelspec": {
   "display_name": "Python 3.10.2 64-bit",
   "language": "python",
   "name": "python3"
  },
  "language_info": {
   "codemirror_mode": {
    "name": "ipython",
    "version": 3
   },
   "file_extension": ".py",
   "mimetype": "text/x-python",
   "name": "python",
   "nbconvert_exporter": "python",
   "pygments_lexer": "ipython3",
   "version": "3.10.2"
  },
  "vscode": {
   "interpreter": {
    "hash": "a957044d351fb82484f120dca125b0411d05a6141ed71a6e42fbd3678d62e425"
   }
  }
 },
 "nbformat": 4,
 "nbformat_minor": 5
}
