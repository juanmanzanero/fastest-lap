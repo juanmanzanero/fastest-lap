{
 "cells": [
  {
   "cell_type": "markdown",
   "id": "96963ef6",
   "metadata": {},
   "source": [
    "# Circuit preprocessor: Mugello circuit"
   ]
  },
  {
   "cell_type": "code",
   "execution_count": null,
   "id": "35c60f81",
   "metadata": {},
   "outputs": [],
   "source": [
    "import sys,os,inspect\n",
    "fastest_lap_top_level=os.path.dirname(os.path.dirname(os.path.dirname(os.path.dirname(os.path.abspath(inspect.getfile(inspect.currentframe()))))))\n",
    "sys.path.append(fastest_lap_top_level + '/examples/python')\n",
    "import fastest_lap\n",
    "import fastest_lap_utils"
   ]
  },
  {
   "cell_type": "code",
   "execution_count": null,
   "id": "d0d1fbc3",
   "metadata": {},
   "outputs": [],
   "source": [
    "options = \"<options>\"\n",
    "options += \"    <kml_files>\"\n",
    "options += \"        <left>../../../database/tracks/mugello/mugello_left.kml</left>\"\n",
    "options += \"        <right>../../../database/tracks/mugello/mugello_right.kml</right>\"\n",
    "options += \"    </kml_files>\"\n",
    "options += \"    <mode>equally-spaced</mode>\"\n",
    "options += \"    <is_closed>true</is_closed>\" \n",
    "options += \"    <number_of_elements>1000</number_of_elements>\" # for tracks that doesn't work just put casual numbers under 1000\n",
    "options += \"    <xml_file_name>github.xml</xml_file_name>\"\n",
    "options += \"    <output_variables>\"\n",
    "options += \"        <prefix>track/</prefix>\"\n",
    "options += \"    </output_variables>\"\n",
    "options += \"</options>\"\n",
    "\n",
    "fastest_lap.circuit_preprocessor(options)"
   ]
  },
  {
   "cell_type": "code",
   "execution_count": null,
   "id": "4563cd76",
   "metadata": {
    "scrolled": false
   },
   "outputs": [],
   "source": [
    "fastest_lap_utils.plot_turn(635, 840, \"Turn 1\");\n",
    "fastest_lap_utils.plot_turn(900, 1000, \"Turn 2\");\n",
    "fastest_lap_utils.plot_turn(1030, 1180, \"Turn 3\");\n",
    "fastest_lap_utils.plot_turn(1440, 1520, \"Turn 4\");\n",
    "fastest_lap_utils.plot_turn(1560, 1670, \"Turn 5\");\n",
    "fastest_lap_utils.plot_turn(1900, 2000, \"Turn 6\");\n",
    "fastest_lap_utils.plot_turn(2010, 2170, \"Turn 7\");\n",
    "fastest_lap_utils.plot_turn(2300, 2540, \"Turn 8\");\n",
    "fastest_lap_utils.plot_turn(2570, 2740, \"Turn 9\");\n",
    "fastest_lap_utils.plot_turn(2970, 3220, \"Turn 10\");\n",
    "fastest_lap_utils.plot_turn(3470, 3750, \"Turn 11\");\n",
    "fastest_lap_utils.plot_turn(3800, 4000, \"Turn 12-13\");\n",
    "#fastest_lap_utils.plot_turn(3600, 3730, \"Turn 13\");\n",
    "fastest_lap_utils.plot_turn(4330, 4730, \"Turn 14\");\n",
    "\"\"\"fastest_lap_utils.plot_turn(4400, 4800, \"Turn 16\");\"\"\""
   ]
  },
  {
   "cell_type": "code",
   "execution_count": null,
   "id": "7089320f",
   "metadata": {},
   "outputs": [],
   "source": [
    "fastest_lap_utils.plot_turn(1470, 1550, \"Turn 4\");\n",
    "fastest_lap_utils.plot_turn(1930, 2030, \"Turn 6\");\n",
    "fastest_lap_utils.plot_turn(2040, 2210, \"Turn 7\");\n",
    "fastest_lap_utils.plot_turn(2570, 2770, \"Turn 9\");\n",
    "fastest_lap_utils.plot_turn(3830, 4030, \"Turn 12-13\");"
   ]
  }
 ],
 "metadata": {
  "kernelspec": {
   "display_name": "Python 3",
   "language": "python",
   "name": "python3"
  },
  "language_info": {
   "codemirror_mode": {
    "name": "ipython",
    "version": 3
   },
   "file_extension": ".py",
   "mimetype": "text/x-python",
   "name": "python",
   "nbconvert_exporter": "python",
   "pygments_lexer": "ipython3",
   "version": "3.10.1"
  }
 },
 "nbformat": 4,
 "nbformat_minor": 5
}
