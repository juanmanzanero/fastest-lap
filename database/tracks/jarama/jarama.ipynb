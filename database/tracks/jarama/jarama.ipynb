{
 "cells": [
  {
   "cell_type": "markdown",
   "id": "96963ef6",
   "metadata": {},
   "source": [
    "# Circuit preprocessor: Jarama 2022"
   ]
  },
  {
   "cell_type": "code",
   "execution_count": 7,
   "id": "35c60f81",
   "metadata": {},
   "outputs": [],
   "source": [
    "import sys,os,inspect\n",
    "sys.path.append(os.path.dirname(os.path.dirname(os.path.abspath(inspect.getfile(inspect.currentframe())))))\n",
    "import fastest_lap\n",
    "import fastest_lap_utils"
   ]
  },
  {
   "cell_type": "code",
   "execution_count": 8,
   "id": "d0d1fbc3",
   "metadata": {},
   "outputs": [],
   "source": [
    "options = \"<options>\"\n",
    "options += \"    <kml_files>\"\n",
    "options += \"        <left>../../../database/tracks/jarama/jarama_left.kml</left>\"\n",
    "options += \"        <right>../../../database/tracks/jarama/jarama_right.kml</right>\"\n",
    "options += \"    </kml_files>\"\n",
    "options += \"    <mode>equally-spaced</mode>\"\n",
    "options += \"    <is_closed>true</is_closed>\"\n",
    "options += \"    <number_of_elements>1000</number_of_elements>\"\n",
    "options += \"    <xml_file_name>jarama.xml</xml_file_name>\"\n",
    "options += \"    <output_variables>\"\n",
    "options += \"        <prefix>track/</prefix>\"\n",
    "options += \"    </output_variables>\"\n",
    "options += \"</options>\"\n",
    "\n",
    "fastest_lap.circuit_preprocessor(options)"
   ]
  },
  {
   "cell_type": "code",
   "execution_count": null,
   "id": "4563cd76",
   "metadata": {
    "scrolled": false
   },
   "outputs": [],
   "source": [
    "fastest_lap_utils.plot_turn(525, 810, \"Turn 1\")\n",
    "fastest_lap_utils.plot_turn(840, 1070, \"Turn 2\")\n",
    "fastest_lap_utils.plot_turn(1100, 1280, \"Turn 3\")\n",
    "fastest_lap_utils.plot_turn(1280, 1425, \"Turn 4\")\n",
    "fastest_lap_utils.plot_turn(1425, 1710, \"Turns 5\")\n",
    "fastest_lap_utils.plot_turn(1800, 2060, \"Turn 6\")\n",
    "fastest_lap_utils.plot_turn(2104, 2480, \"Turns 7\")\n",
    "fastest_lap_utils.plot_turn(2600, 2850, \"Turn 8\")\n",
    "fastest_lap_utils.plot_turn(2800, 3075, \"Turn 9\")\n",
    "fastest_lap_utils.plot_turn(3120, 3500, \"Turn 10\")\n",
    "fastest_lap_utils.plot_turn(3420, 3720, \"Turns 11\")"
   ]
  }
 ],
 "metadata": {
  "kernelspec": {
   "display_name": "Python 3.10.2 64-bit",
   "language": "python",
   "name": "python3"
  },
  "language_info": {
   "codemirror_mode": {
    "name": "ipython",
    "version": 3
   },
   "file_extension": ".py",
   "mimetype": "text/x-python",
   "name": "python",
   "nbconvert_exporter": "python",
   "pygments_lexer": "ipython3",
   "version": "3.10.2"
  },
  "vscode": {
   "interpreter": {
    "hash": "a957044d351fb82484f120dca125b0411d05a6141ed71a6e42fbd3678d62e425"
   }
  }
 },
 "nbformat": 4,
 "nbformat_minor": 5
}
