{
 "cells": [
  {
   "cell_type": "markdown",
   "id": "96963ef6",
   "metadata": {},
   "source": [
    "# Circuit preprocessor: Varano 2022"
   ]
  },
  {
   "cell_type": "code",
   "execution_count": 7,
   "id": "35c60f81",
   "metadata": {},
   "outputs": [],
   "source": [
    "import sys,os,inspect\n",
    "sys.path.append(os.path.dirname(os.path.dirname(os.path.abspath(inspect.getfile(inspect.currentframe())))))\n",
    "import fastest_lap\n",
    "import fastest_lap_utils"
   ]
  },
  {
   "cell_type": "code",
   "execution_count": 8,
   "id": "d0d1fbc3",
   "metadata": {},
   "outputs": [],
   "source": [
    "options = \"<options>\"\n",
    "options += \"    <kml_files>\"\n",
    "options += \"        <left>../../../database/tracks/varano/varano_left.kml</left>\"\n",
    "options += \"        <right>../../../database/tracks/varano/varano_right.kml</right>\"\n",
    "options += \"    </kml_files>\"\n",
    "options += \"    <mode>equally-spaced</mode>\"\n",
    "options += \"    <is_closed>true</is_closed>\"\n",
    "options += \"    <number_of_elements>1000</number_of_elements>\"\n",
    "options += \"    <xml_file_name>varano.xml</xml_file_name>\"\n",
    "options += \"    <output_variables>\"\n",
    "options += \"        <prefix>track/</prefix>\"\n",
    "options += \"    </output_variables>\"\n",
    "options += \"</options>\"\n",
    "\n",
    "fastest_lap.circuit_preprocessor(options)"
   ]
  },
  {
   "cell_type": "code",
   "execution_count": null,
   "id": "4563cd76",
   "metadata": {
    "scrolled": false
   },
   "outputs": [],
   "source": [
    "fastest_lap_utils.plot_turn(190, 415, \"Turn 1-2\")\n",
    "fastest_lap_utils.plot_turn(550, 770, \"Turn 3\")\n",
    "fastest_lap_utils.plot_turn(1000, 1200, \"Turn 4-5\")\n",
    "fastest_lap_utils.plot_turn(1200, 1430, \"Turn 6-7\")\n",
    "fastest_lap_utils.plot_turn(1560, 1710, \"Turn 8\")\n",
    "fastest_lap_utils.plot_turn(1750, 1940, \"Turns 9-10\")\n",
    "fastest_lap_utils.plot_turn(1920, 2060, \"Turns 11-12\")\n",
    "fastest_lap_utils.plot_turn(2050, 2160, \"Turns 13\")"
   ]
  }
 ],
 "metadata": {
  "kernelspec": {
   "display_name": "Python 3.10.2 64-bit",
   "language": "python",
   "name": "python3"
  },
  "language_info": {
   "codemirror_mode": {
    "name": "ipython",
    "version": 3
   },
   "file_extension": ".py",
   "mimetype": "text/x-python",
   "name": "python",
   "nbconvert_exporter": "python",
   "pygments_lexer": "ipython3",
   "version": "3.10.2"
  },
  "vscode": {
   "interpreter": {
    "hash": "a957044d351fb82484f120dca125b0411d05a6141ed71a6e42fbd3678d62e425"
   }
  }
 },
 "nbformat": 4,
 "nbformat_minor": 5
}
